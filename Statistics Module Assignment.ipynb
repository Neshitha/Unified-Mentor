{
  "cells": [
    {
      "cell_type": "markdown",
      "metadata": {
        "id": "QvtD0SxEOPGe"
      },
      "source": [
        "<a id='1'></a><center> <h3 style=\"background-color:orange; color:white\" ><br>Telecommunication Industry Project<br></h3>"
      ]
    },
    {
      "cell_type": "markdown",
      "metadata": {
        "id": "_pzTIrVbOcFF"
      },
      "source": [
        "# Introduction\n",
        "This Jupyter notebook is part of your learning experience in the study of applied statistics.\n",
        "\n",
        "You will work with a data set that contains mobile phone prices and their specifications.\n",
        "\n",
        "**Dataset Columns Information**\n",
        "\n",
        "PID = a unique identifier for the phone model\n",
        "\n",
        "Blue = whether the phone has bluetooth support or not\n",
        "\n",
        "Wi_Fi = whether the phone has wifi support or not\n",
        "\n",
        "Tch_Scr = whether the phone has touch screen support or not\n",
        "\n",
        "Ext_Mem = whether the phone has external memory support or not\n",
        "\n",
        "Px_h = number of pixels in the vertical axis of the phone\n",
        "\n",
        "Px_w = number of pixels in the horizontal axis of the phone\n",
        "\n",
        "Scr_h = height of the screen of the phone in centimetres (cm)\n",
        "\n",
        "Scr_w = width of the screen of the phone in centimetres (cm)\n",
        "\n",
        "Int_Mem = internal memory of the phone measured in megabytes (MB)\n",
        "\n",
        "Bty_Pwr = maximum energy stored by the phone's battery measured in \n",
        "milli-Ampere-hours (mAh)\n",
        "\n",
        "PC = resolution of the primary camera measued in megapixels (MP)\n",
        "\n",
        "FC = resolution of the front camera measued in megapixels (MP)\n",
        "\n",
        "RAM = random access memory available in the phone measured in gigabytes (GB)\n",
        "\n",
        "Depth = depth of the mobile phone measured in centimetres (cm)\n",
        "\n",
        "Weight = weight of the mobile phone measured in grams (g)\n",
        "\n",
        "Price = selling price of the mobile phone in rupees\n"
      ]
    },
    {
      "cell_type": "markdown",
      "metadata": {
        "id": "YCLhIkwFO4Tj"
      },
      "source": [
        "## Task 1 - Load and study the data"
      ]
    },
    {
      "cell_type": "markdown",
      "metadata": {
        "id": "CBMdPgPUO89Y"
      },
      "source": [
        "Import the libraries that will be used in this notebook"
      ]
    },
    {
      "cell_type": "code",
      "execution_count": 18,
      "metadata": {
        "id": "z9ZS2Tw2N857"
      },
      "outputs": [],
      "source": [
        "# Load \"numpy\" and \"pandas\" for manipulating numbers and data frames\n",
        "# Load \"matplotlib.pyplot\" and \"seaborn\" for data visualisation\n",
        "import numpy as np\n",
        "import pandas as pd\n",
        "import matplotlib.pyplot as plt\n",
        "import seaborn as sns"
      ]
    },
    {
      "cell_type": "markdown",
      "metadata": {
        "id": "7rdvm8PDPCgM"
      },
      "source": [
        "Load the csv file as pandas dataframe. "
      ]
    },
    {
      "cell_type": "code",
      "execution_count": 19,
      "metadata": {
        "id": "7p5Rg_AkN858"
      },
      "outputs": [],
      "source": [
        "# Read in the \"Dataset\" file as a Pandas Data Frame\n",
        "\n",
        "df = pd.read_csv(\"C:/Users/jaya2/Downloads/Telecom Dataset.csv\")"
      ]
    },
    {
      "cell_type": "code",
      "execution_count": 20,
      "metadata": {
        "id": "WdfT3N-iN859"
      },
      "outputs": [
        {
          "data": {
            "text/html": [
              "<div>\n",
              "<style scoped>\n",
              "    .dataframe tbody tr th:only-of-type {\n",
              "        vertical-align: middle;\n",
              "    }\n",
              "\n",
              "    .dataframe tbody tr th {\n",
              "        vertical-align: top;\n",
              "    }\n",
              "\n",
              "    .dataframe thead th {\n",
              "        text-align: right;\n",
              "    }\n",
              "</style>\n",
              "<table border=\"1\" class=\"dataframe\">\n",
              "  <thead>\n",
              "    <tr style=\"text-align: right;\">\n",
              "      <th></th>\n",
              "      <th>PID</th>\n",
              "      <th>Blue</th>\n",
              "      <th>Wi_Fi</th>\n",
              "      <th>Tch_Scr</th>\n",
              "      <th>Ext_Mem</th>\n",
              "      <th>Px_h</th>\n",
              "      <th>Px_w</th>\n",
              "      <th>Scr_h</th>\n",
              "      <th>Scr_w</th>\n",
              "      <th>PC</th>\n",
              "      <th>FC</th>\n",
              "      <th>Int_Mem</th>\n",
              "      <th>Bty_Pwr</th>\n",
              "      <th>RAM</th>\n",
              "      <th>Depth</th>\n",
              "      <th>Weight</th>\n",
              "      <th>Price</th>\n",
              "    </tr>\n",
              "  </thead>\n",
              "  <tbody>\n",
              "    <tr>\n",
              "      <th>0</th>\n",
              "      <td>AAB346A</td>\n",
              "      <td>yes</td>\n",
              "      <td>yes</td>\n",
              "      <td>no</td>\n",
              "      <td>no</td>\n",
              "      <td>780</td>\n",
              "      <td>460</td>\n",
              "      <td>3</td>\n",
              "      <td>1</td>\n",
              "      <td>2</td>\n",
              "      <td>2</td>\n",
              "      <td>8</td>\n",
              "      <td>2800</td>\n",
              "      <td>2</td>\n",
              "      <td>7</td>\n",
              "      <td>320</td>\n",
              "      <td>3297</td>\n",
              "    </tr>\n",
              "    <tr>\n",
              "      <th>1</th>\n",
              "      <td>AAC347I</td>\n",
              "      <td>yes</td>\n",
              "      <td>yes</td>\n",
              "      <td>no</td>\n",
              "      <td>no</td>\n",
              "      <td>780</td>\n",
              "      <td>560</td>\n",
              "      <td>2</td>\n",
              "      <td>1</td>\n",
              "      <td>4</td>\n",
              "      <td>2</td>\n",
              "      <td>8</td>\n",
              "      <td>3000</td>\n",
              "      <td>2</td>\n",
              "      <td>7</td>\n",
              "      <td>280</td>\n",
              "      <td>4500</td>\n",
              "    </tr>\n",
              "    <tr>\n",
              "      <th>2</th>\n",
              "      <td>BAB657J</td>\n",
              "      <td>no</td>\n",
              "      <td>yes</td>\n",
              "      <td>no</td>\n",
              "      <td>no</td>\n",
              "      <td>840</td>\n",
              "      <td>720</td>\n",
              "      <td>2</td>\n",
              "      <td>1</td>\n",
              "      <td>4</td>\n",
              "      <td>2</td>\n",
              "      <td>8</td>\n",
              "      <td>3300</td>\n",
              "      <td>2</td>\n",
              "      <td>7</td>\n",
              "      <td>400</td>\n",
              "      <td>4898</td>\n",
              "    </tr>\n",
              "    <tr>\n",
              "      <th>3</th>\n",
              "      <td>BBD456K</td>\n",
              "      <td>no</td>\n",
              "      <td>yes</td>\n",
              "      <td>yes</td>\n",
              "      <td>no</td>\n",
              "      <td>1280</td>\n",
              "      <td>1120</td>\n",
              "      <td>5</td>\n",
              "      <td>3</td>\n",
              "      <td>6</td>\n",
              "      <td>2</td>\n",
              "      <td>32</td>\n",
              "      <td>3000</td>\n",
              "      <td>2</td>\n",
              "      <td>3</td>\n",
              "      <td>300</td>\n",
              "      <td>6900</td>\n",
              "    </tr>\n",
              "    <tr>\n",
              "      <th>4</th>\n",
              "      <td>CCP761U</td>\n",
              "      <td>no</td>\n",
              "      <td>yes</td>\n",
              "      <td>yes</td>\n",
              "      <td>no</td>\n",
              "      <td>1280</td>\n",
              "      <td>1080</td>\n",
              "      <td>4</td>\n",
              "      <td>3</td>\n",
              "      <td>6</td>\n",
              "      <td>2</td>\n",
              "      <td>16</td>\n",
              "      <td>3000</td>\n",
              "      <td>2</td>\n",
              "      <td>3</td>\n",
              "      <td>210</td>\n",
              "      <td>5600</td>\n",
              "    </tr>\n",
              "  </tbody>\n",
              "</table>\n",
              "</div>"
            ],
            "text/plain": [
              "       PID Blue Wi_Fi Tch_Scr Ext_Mem  Px_h  Px_w  Scr_h  Scr_w  PC  FC  \\\n",
              "0  AAB346A  yes   yes      no      no   780   460      3      1   2   2   \n",
              "1  AAC347I  yes   yes      no      no   780   560      2      1   4   2   \n",
              "2  BAB657J   no   yes      no      no   840   720      2      1   4   2   \n",
              "3  BBD456K   no   yes     yes      no  1280  1120      5      3   6   2   \n",
              "4  CCP761U   no   yes     yes      no  1280  1080      4      3   6   2   \n",
              "\n",
              "   Int_Mem  Bty_Pwr  RAM  Depth  Weight  Price  \n",
              "0        8     2800    2      7     320   3297  \n",
              "1        8     3000    2      7     280   4500  \n",
              "2        8     3300    2      7     400   4898  \n",
              "3       32     3000    2      3     300   6900  \n",
              "4       16     3000    2      3     210   5600  "
            ]
          },
          "execution_count": 20,
          "metadata": {},
          "output_type": "execute_result"
        }
      ],
      "source": [
        "# Take a brief look at the data\n",
        "df.head()"
      ]
    },
    {
      "cell_type": "code",
      "execution_count": 21,
      "metadata": {
        "id": "0jdoVTnIN85_"
      },
      "outputs": [
        {
          "data": {
            "text/plain": [
              "(50, 17)"
            ]
          },
          "execution_count": 21,
          "metadata": {},
          "output_type": "execute_result"
        }
      ],
      "source": [
        "# Get the dimensions of the dataframe\n",
        "df.shape\n"
      ]
    },
    {
      "cell_type": "code",
      "execution_count": 22,
      "metadata": {
        "id": "y28qZAzdN86B"
      },
      "outputs": [
        {
          "data": {
            "text/plain": [
              "RangeIndex(start=0, stop=50, step=1)"
            ]
          },
          "execution_count": 22,
          "metadata": {},
          "output_type": "execute_result"
        }
      ],
      "source": [
        "# Get the row names of the dataframe\n",
        "\n",
        "df.index"
      ]
    },
    {
      "cell_type": "code",
      "execution_count": 23,
      "metadata": {
        "id": "u3wUbIm7N86C"
      },
      "outputs": [
        {
          "data": {
            "text/plain": [
              "Index(['PID', 'Blue', 'Wi_Fi', 'Tch_Scr', 'Ext_Mem', 'Px_h', 'Px_w', 'Scr_h',\n",
              "       'Scr_w', 'PC', 'FC', 'Int_Mem', 'Bty_Pwr', 'RAM', 'Depth', 'Weight',\n",
              "       'Price'],\n",
              "      dtype='object')"
            ]
          },
          "execution_count": 23,
          "metadata": {},
          "output_type": "execute_result"
        }
      ],
      "source": [
        "# Get the column names of the dataframe\n",
        "\n",
        "df.columns"
      ]
    },
    {
      "cell_type": "code",
      "execution_count": 10,
      "metadata": {
        "id": "zoJdOWbKN86D"
      },
      "outputs": [
        {
          "name": "stdout",
          "output_type": "stream",
          "text": [
            "<class 'pandas.core.frame.DataFrame'>\n",
            "RangeIndex: 50 entries, 0 to 49\n",
            "Data columns (total 17 columns):\n",
            " #   Column   Non-Null Count  Dtype \n",
            "---  ------   --------------  ----- \n",
            " 0   PID      50 non-null     object\n",
            " 1   Blue     50 non-null     object\n",
            " 2   Wi_Fi    50 non-null     object\n",
            " 3   Tch_Scr  50 non-null     object\n",
            " 4   Ext_Mem  50 non-null     object\n",
            " 5   Px_h     50 non-null     int64 \n",
            " 6   Px_w     50 non-null     int64 \n",
            " 7   Scr_h    50 non-null     int64 \n",
            " 8   Scr_w    50 non-null     int64 \n",
            " 9   PC       50 non-null     int64 \n",
            " 10  FC       50 non-null     int64 \n",
            " 11  Int_Mem  50 non-null     int64 \n",
            " 12  Bty_Pwr  50 non-null     int64 \n",
            " 13  RAM      50 non-null     int64 \n",
            " 14  Depth    50 non-null     int64 \n",
            " 15  Weight   50 non-null     int64 \n",
            " 16  Price    50 non-null     int64 \n",
            "dtypes: int64(12), object(5)\n",
            "memory usage: 6.8+ KB\n"
          ]
        }
      ],
      "source": [
        "# Look at basic information about the dataframe\n",
        "\n",
        "df.info()"
      ]
    },
    {
      "cell_type": "markdown",
      "metadata": {
        "id": "Yp1sfFKKQQLR"
      },
      "source": [
        "Observations:\n",
        "\n",
        "There are 50 phones in the data set.\n",
        "\n",
        "There are 17 features in the data set including the \"PID\" feature which is used as the row index labels.\n",
        "\n",
        "There are no missing values in the data set."
      ]
    },
    {
      "cell_type": "markdown",
      "metadata": {
        "id": "K6wSkK61E57v"
      },
      "source": [
        "<center>Let's try some logical operators to filter the data.<center>"
      ]
    },
    {
      "cell_type": "markdown",
      "metadata": {
        "id": "Fjx3ajuFFN5H"
      },
      "source": [
        "![](https://th.bing.com/th/id/R.0592084daa6518e4fae97f47217ec69e?rik=vNqmiaTVSSo54w&riu=http%3a%2f%2f2.bp.blogspot.com%2f-ujABms6N-Cg%2fTyYwShdTjnI%2fAAAAAAAAAAs%2fktPbHdifidc%2fs1600%2fLogical%2bOperators.PNG&ehk=ww1gl1HB2PcZwPQNHWRUvcQ631Q3mzyHSxL9G4zUKT4%3d&risl=&pid=ImgRaw&r=0,width=700,height=400)"
      ]
    },
    {
      "cell_type": "markdown",
      "metadata": {
        "id": "zBarC8WVQZG7"
      },
      "source": [
        "## Task 2 - Obtain the logical conditions for the features \"Blue\", \"Wi_Fi\", \"Tch_Scr\" and \"Ext_Mem\""
      ]
    },
    {
      "cell_type": "code",
      "execution_count": 24,
      "metadata": {
        "id": "RAV76P19N86G"
      },
      "outputs": [
        {
          "name": "stdout",
          "output_type": "stream",
          "text": [
            "Index(['PID', 'Blue', 'Wi_Fi', 'Tch_Scr', 'Ext_Mem', 'Px_h', 'Px_w', 'Scr_h',\n",
            "       'Scr_w', 'PC', 'FC', 'Int_Mem', 'Bty_Pwr', 'RAM', 'Depth', 'Weight',\n",
            "       'Price'],\n",
            "      dtype='object')\n"
          ]
        }
      ],
      "source": [
        "# Get the feature names of the dataframe\n",
        "print(df.columns)\n",
        "\n"
      ]
    },
    {
      "cell_type": "code",
      "execution_count": 25,
      "metadata": {
        "id": "4qnHqu_vN86H"
      },
      "outputs": [
        {
          "name": "stdout",
          "output_type": "stream",
          "text": [
            "       Blue Wi_Fi Tch_Scr Ext_Mem\n",
            "count    50    50      50      50\n",
            "unique    2     2       2       2\n",
            "top     yes   yes     yes     yes\n",
            "freq     27    42      45      38\n",
            "Blue       0\n",
            "Wi_Fi      0\n",
            "Tch_Scr    0\n",
            "Ext_Mem    0\n",
            "dtype: int64\n"
          ]
        }
      ],
      "source": [
        "# Let's tackle these features: \"Blue\", \"Wi_Fi\", \"Tch_Scr\", \"Ext_Mem\"\n",
        "print(df[[\"Blue\", \"Wi_Fi\", \"Tch_Scr\", \"Ext_Mem\"]].describe())\n",
        "print(df[[\"Blue\", \"Wi_Fi\", \"Tch_Scr\", \"Ext_Mem\"]].isnull().sum())\n"
      ]
    },
    {
      "cell_type": "code",
      "execution_count": 82,
      "metadata": {
        "id": "8N-jff5hN86I"
      },
      "outputs": [],
      "source": [
        "# The children want phones that have the following: Bluetooth, WiFi, touch screen and external memory support\n",
        "# Create a logical condition for this situation and store the logical values as \"con1\"\n",
        "\n",
        "df['con1'] = (df['Blue'] == 'Yes') & (df['Wi_Fi'] == 'yes') & (df['Tch_Scr'] == 'yes') & (df['Ext_Mem'] == 'yes')\n",
        "\n",
        "\n",
        "\n"
      ]
    },
    {
      "cell_type": "markdown",
      "metadata": {
        "id": "KilesitnQjMF"
      },
      "source": [
        "Observations:\n",
        "\n",
        "The features \"Blue\", \"Wi_Fi\", \"Tch_Scr\" and \"Ext_Mem\" are binary in nature.\n",
        "\n",
        "The children want all these features, so the logical condition \"con1\" has been obtained accordingly."
      ]
    },
    {
      "cell_type": "markdown",
      "metadata": {
        "id": "n8qZScOZQsj3"
      },
      "source": [
        "## Task 3 - Obtain the logical conditions for the features \"Px_h\" and \"Px_w\""
      ]
    },
    {
      "cell_type": "code",
      "execution_count": 27,
      "metadata": {
        "id": "UgpsX9ZYN86M"
      },
      "outputs": [
        {
          "name": "stdout",
          "output_type": "stream",
          "text": [
            "Index(['PID', 'Blue', 'Wi_Fi', 'Tch_Scr', 'Ext_Mem', 'Px_h', 'Px_w', 'Scr_h',\n",
            "       'Scr_w', 'PC', 'FC', 'Int_Mem', 'Bty_Pwr', 'RAM', 'Depth', 'Weight',\n",
            "       'Price', 'con1'],\n",
            "      dtype='object')\n"
          ]
        }
      ],
      "source": [
        "# Get the feature names of the dataframe\n",
        "\n",
        "print(df.columns)\n"
      ]
    },
    {
      "cell_type": "code",
      "execution_count": 28,
      "metadata": {
        "id": "HvY0q-JeN86N"
      },
      "outputs": [
        {
          "name": "stdout",
          "output_type": "stream",
          "text": [
            "              Px_h         Px_w\n",
            "count    50.000000    50.000000\n",
            "mean   2319.400000  1833.200000\n",
            "std     598.400623   469.713069\n",
            "min     780.000000   460.000000\n",
            "25%    2080.000000  1775.000000\n",
            "50%    2580.000000  1980.000000\n",
            "75%    2580.000000  2120.000000\n",
            "max    2880.000000  2520.000000\n",
            "Px_h    0\n",
            "Px_w    0\n",
            "dtype: int64\n"
          ]
        }
      ],
      "source": [
        "# Let's tackle these features: \"Px_h\", \"Px_w\"\n",
        "\n",
        "print(df[['Px_h', 'Px_w']].describe())\n",
        "print(df[['Px_h', 'Px_w']].isnull().sum())\n",
        "\n"
      ]
    },
    {
      "cell_type": "code",
      "execution_count": 34,
      "metadata": {
        "id": "9g8VvPLiN86O"
      },
      "outputs": [
        {
          "name": "stdout",
          "output_type": "stream",
          "text": [
            "   Px_h  Px_w       Px\n",
            "0   780   460   358800\n",
            "1   780   560   436800\n",
            "2   840   720   604800\n",
            "3  1280  1120  1433600\n",
            "4  1280  1080  1382400\n"
          ]
        }
      ],
      "source": [
        "# Create a new feature called \"Px\" which stores the total resolution of the screen\n",
        "df['Px'] = df['Px_h'] * df['Px_w']\n",
        "print(df[['Px_h', 'Px_w', 'Px']].head())\n",
        "\n"
      ]
    },
    {
      "cell_type": "code",
      "execution_count": 35,
      "metadata": {
        "id": "nbYsIHpjN86P"
      },
      "outputs": [
        {
          "data": {
            "image/png": "[encoded data removed]",
            "text/plain": [
              "<Figure size 1100x600 with 1 Axes>"
            ]
          },
          "metadata": {},
          "output_type": "display_data"
        }
      ],
      "source": [
        "# Create a histogram of the \"Px\" feature and also show the mean and the median\n",
        "plt.figure(figsize = (11,6))\n",
        "sns.histplot(data = df, x = 'Px',color = 'blue',edgecolor = 'linen',alpha = 0.7,bins = 10)\n",
        "plt.title(\"Histogram of Px\")\n",
        "plt.xlabel(\"Px_h\")\n",
        "plt.ylabel(\"Px_w\")\n",
        "plt.show()\n"
      ]
    },
    {
      "cell_type": "code",
      "execution_count": 76,
      "metadata": {
        "id": "SxaYgagyN86Q"
      },
      "outputs": [
        {
          "name": "stdout",
          "output_type": "stream",
          "text": [
            "4517184.0\n",
            "5108400.0\n"
          ]
        }
      ],
      "source": [
        "a1 = (df['Px'].mean())\n",
        "a2 = (df['Px'].median())\n",
        "print(a1)\n",
        "print(a2)"
      ]
    },
    {
      "cell_type": "code",
      "execution_count": 80,
      "metadata": {},
      "outputs": [],
      "source": [
        "# The children want phones that have good screen resolutions\n",
        "# Consider the phones that have screen resolutions greater than or equal to the median value in the data set\n",
        "# Create a logical condition for this situation and store the logical values as \"con2\"\n",
        "median_resolution = df['Px'].median()\n",
        "con2 = df['Px'] >= median_resolution\n",
        "df['con2'] = con2\n"
      ]
    },
    {
      "cell_type": "markdown",
      "metadata": {
        "id": "M-DC9VY2RBZQ"
      },
      "source": [
        "Observations:\n",
        "\n",
        "The features \"Px_h\" and \"Px_w\" are respectively the number of pixels in the phone screen in the vertical and horizontal axes.\n",
        "\n",
        "We created a new feature called \"Px\" which is the product of the features \"Px_h\" and \"Px_w\".\n",
        "\n",
        "The median has been selected as a threshold in this case.\n",
        "\n",
        "In case it is too strict, we can choose the mean as a threshold."
      ]
    },
    {
      "cell_type": "markdown",
      "metadata": {
        "id": "ih3ev8-0RJg5"
      },
      "source": [
        "# Task 4 - Obtain the logical conditions for the features \"Scr_h\" and \"Scr_w\""
      ]
    },
    {
      "cell_type": "code",
      "execution_count": 38,
      "metadata": {
        "id": "EsEcEKKTN86T"
      },
      "outputs": [
        {
          "name": "stdout",
          "output_type": "stream",
          "text": [
            "           Scr_h      Scr_w\n",
            "count  50.000000  50.000000\n",
            "mean    6.500000   4.620000\n",
            "std     2.042907   1.883223\n",
            "min     2.000000   1.000000\n",
            "25%     5.000000   3.000000\n",
            "50%     6.000000   5.000000\n",
            "75%     8.000000   6.000000\n",
            "max    10.000000   8.000000\n",
            "Scr_h    0\n",
            "Scr_w    0\n",
            "dtype: int64\n"
          ]
        }
      ],
      "source": [
        "# Let's tackle these features: \"Scr_h\", \"Scr_w\"\n",
        "print(df[[\"Scr_h\", \"Scr_w\"]].describe())\n",
        "print(df[[\"Scr_h\", \"Scr_w\"]].isnull().sum())"
      ]
    },
    {
      "cell_type": "code",
      "execution_count": 39,
      "metadata": {
        "id": "qTOcx3FCN86U"
      },
      "outputs": [],
      "source": [
        "# Create a new feature called \"Scr_d\" which stores the length of the diagonal of the screen of the phone\n",
        "df['Scr_d'] = np.sqrt(df['Scr_w']**2 + df['Scr_h']**2)\n",
        "\n"
      ]
    },
    {
      "cell_type": "code",
      "execution_count": 40,
      "metadata": {
        "id": "83gzdEN7N86U"
      },
      "outputs": [
        {
          "data": {
            "image/png": "[encoded data removed]",
            "text/plain": [
              "<Figure size 1100x600 with 1 Axes>"
            ]
          },
          "metadata": {},
          "output_type": "display_data"
        }
      ],
      "source": [
        "# Create a histogram of the \"Scr_d\" feature and also show the quartiles\n",
        "plt.figure(figsize = (11,6))\n",
        "sns.histplot(data = df, x = 'Scr_d',color = 'green',edgecolor = 'linen',alpha = 0.7,bins = 10)\n",
        "plt.title(\"Histogram of Scr_d\")\n",
        "plt.xlabel(\"Scr_h\")\n",
        "plt.ylabel(\"Scr_w\")\n",
        "plt.show()\n"
      ]
    },
    {
      "cell_type": "code",
      "execution_count": 41,
      "metadata": {
        "id": "aEvL_TPSN86V"
      },
      "outputs": [
        {
          "name": "stdout",
          "output_type": "stream",
          "text": [
            "5.830951894845301\n",
            "7.810249675906654\n",
            "10.0\n"
          ]
        }
      ],
      "source": [
        "q1 = df['Scr_d'].quantile(0.25)\n",
        "q2 = df['Scr_d'].quantile(0.50) \n",
        "q3 = df['Scr_d'].quantile(0.75)\n",
        "print(q1)\n",
        "print(q2)\n",
        "print(q3)\n"
      ]
    },
    {
      "cell_type": "code",
      "execution_count": 81,
      "metadata": {},
      "outputs": [],
      "source": [
        "# The children want phones that have very good screen sizes\n",
        "# Consider the phones that have screen sizes greater than or equal to the upper quartile value in the data set\n",
        "# Create a logical condition for this situation and store the logical values as \"con3\"\n",
        "\n",
        "df['con3'] = df['Scr_d'] >= q3\n",
        "\n",
        "\n"
      ]
    },
    {
      "cell_type": "markdown",
      "metadata": {
        "id": "BKDitmp9RZDe"
      },
      "source": [
        "Observations:\n",
        "\n",
        "The features \"Scr_h\" and \"Scr_w\" are respectively the height and the width of the phone screen.\n",
        "\n",
        "We created a new feature called \"Scr_d\" which is essentially the length of the screen diagonal.\n",
        "\n",
        "The upper quartile has been selected as a threshold in this case as the children were very particular on this point.\n",
        "\n",
        "In case it is too strict, we can choose the mean or the median as a threshold."
      ]
    },
    {
      "cell_type": "markdown",
      "metadata": {
        "id": "21dZEsZRRikD"
      },
      "source": [
        "# Task 5 - Obtain the logical conditions for the features \"PC\" and \"FC\""
      ]
    },
    {
      "cell_type": "code",
      "execution_count": 43,
      "metadata": {
        "id": "lCQR8DBRN86Y"
      },
      "outputs": [
        {
          "name": "stdout",
          "output_type": "stream",
          "text": [
            "               PC         FC\n",
            "count   50.000000  50.000000\n",
            "mean    42.160000  20.760000\n",
            "std     30.174567  14.784934\n",
            "min      2.000000   2.000000\n",
            "25%     12.000000   8.000000\n",
            "50%     40.000000  16.000000\n",
            "75%     64.000000  32.000000\n",
            "max    128.000000  64.000000\n",
            "PC    0\n",
            "FC    0\n",
            "dtype: int64\n"
          ]
        }
      ],
      "source": [
        "# Let's tackle these features: \"PC\", \"FC\"\n",
        "print(df[[\"PC\", \"FC\"]].describe())\n",
        "print(df[[\"PC\", \"FC\"]].isnull().sum())"
      ]
    },
    {
      "cell_type": "code",
      "execution_count": 44,
      "metadata": {
        "id": "KtH-XWmqN86Z"
      },
      "outputs": [
        {
          "data": {
            "image/png": "[encoded data removed]",
            "text/plain": [
              "<Figure size 1100x600 with 1 Axes>"
            ]
          },
          "metadata": {},
          "output_type": "display_data"
        }
      ],
      "source": [
        "# Create a histogram of the \"PC\" feature and also show the mean and the median\n",
        "\n",
        "plt.figure(figsize = (11,6))\n",
        "sns.histplot(data = df, x = 'PC',color = 'orange',edgecolor = 'linen',alpha = 0.7,bins = 10)\n",
        "plt.title(\"Histogram of PC\")\n",
        "plt.xlabel(\"PC\")\n",
        "plt.ylabel(\"FC\")\n",
        "plt.show()\n"
      ]
    },
    {
      "cell_type": "code",
      "execution_count": 83,
      "metadata": {},
      "outputs": [
        {
          "name": "stdout",
          "output_type": "stream",
          "text": [
            "42.16\n",
            "40.0\n"
          ]
        }
      ],
      "source": [
        "a1 =(df['PC'].mean())\n",
        "a2 =(df['PC'].median())\n",
        "print(a1)\n",
        "print(a2)\n"
      ]
    },
    {
      "cell_type": "code",
      "execution_count": 92,
      "metadata": {
        "id": "vMp3OWR0N86a"
      },
      "outputs": [
        {
          "data": {
            "image/png": "[encoded data removed]",
            "text/plain": [
              "<Figure size 1100x600 with 1 Axes>"
            ]
          },
          "metadata": {},
          "output_type": "display_data"
        }
      ],
      "source": [
        "# Create a histogram of the \"FC\" feature and also show the mean and the median\n",
        "plt.figure(figsize = (11,6))\n",
        "sns.histplot(data = df, x = 'FC',color = 'red',edgecolor = 'linen',alpha = 0.7,bins = 10)\n",
        "plt.title(\"Histogram of Scr_d\")\n",
        "plt.xlabel(\"FC\")\n",
        "plt.ylabel(\"PC\")\n",
        "plt.show()\n",
        "\n",
        "\n"
      ]
    },
    {
      "cell_type": "code",
      "execution_count": 46,
      "metadata": {},
      "outputs": [
        {
          "name": "stdout",
          "output_type": "stream",
          "text": [
            "20.76\n",
            "16.0\n"
          ]
        }
      ],
      "source": [
        "b1 = (df['FC'].mean())\n",
        "b2 = (df['FC'].median())\n",
        "print(b1)\n",
        "print(b2)"
      ]
    },
    {
      "cell_type": "code",
      "execution_count": 84,
      "metadata": {
        "id": "uwOY8IGoN86a"
      },
      "outputs": [],
      "source": [
        "# The children want phones that have good primary and front camera resolutions\n",
        "# Consider the phones that have primary and front camera resolutions greater than or equal to their respective mean values\n",
        "# Create a logical condition for this situation and store the logical values as \"con4\"\n",
        "df['con4'] = (df['PC'] >= a1) & (df['FC'] >= b1)\n",
        "\n",
        "\n"
      ]
    },
    {
      "cell_type": "markdown",
      "metadata": {
        "id": "jo7yqfJSRvNT"
      },
      "source": [
        "Observations:\n",
        "\n",
        "The features \"PC\" and \"FC\" are respectively the resolutions of the primary camera and the front camera.\n",
        "\n",
        "The respective means have been selected as thresholds in this case.\n",
        "\n",
        "In case it is too strict, we can choose the respective medians as thresholds."
      ]
    },
    {
      "cell_type": "markdown",
      "metadata": {
        "id": "iu0E_MTAR3Pn"
      },
      "source": [
        "# Task 6 - Obtain the logical conditions for the features \"Int_Mem\", \"Bty_Pwr\" and \"RAM\""
      ]
    },
    {
      "cell_type": "code",
      "execution_count": 100,
      "metadata": {
        "id": "tnBJk7xFN86d"
      },
      "outputs": [
        {
          "name": "stdout",
          "output_type": "stream",
          "text": [
            "           Int_Mem      Bty_Pwr        RAM\n",
            "count    50.000000    50.000000  50.000000\n",
            "mean    173.760000  3740.000000   5.760000\n",
            "std     261.771871   958.817299   2.759473\n",
            "min       8.000000  2300.000000   2.000000\n",
            "25%      32.000000  2800.000000   4.000000\n",
            "50%      64.000000  3300.000000   5.000000\n",
            "75%     128.000000  4500.000000   8.000000\n",
            "max    1024.000000  5600.000000  12.000000\n",
            "Int_Mem    0\n",
            "Bty_Pwr    0\n",
            "RAM        0\n",
            "dtype: int64\n"
          ]
        }
      ],
      "source": [
        "# Let's tackle these features: \"Int_Mem\", \"Bty_Pwr\", \"RAM\"\n",
        "print(df[[\"Int_Mem\", \"Bty_Pwr\", \"RAM\"]].describe())\n",
        "print(df[[\"Int_Mem\", \"Bty_Pwr\", \"RAM\"]].isnull().sum())"
      ]
    },
    {
      "cell_type": "code",
      "execution_count": 104,
      "metadata": {
        "id": "YMBT6fVEN86e"
      },
      "outputs": [
        {
          "data": {
            "image/png": "[encoded data removed]",
            "text/plain": [
              "<Figure size 1100x600 with 1 Axes>"
            ]
          },
          "metadata": {},
          "output_type": "display_data"
        }
      ],
      "source": [
        "# Create a histogram of the \"Int_Mem\" feature and also show the mean and the median\n",
        "\n",
        "plt.figure(figsize = (11,6))\n",
        "sns.histplot(data = df, x = 'Int_Mem',color = 'blue',edgecolor = 'linen',alpha = 0.7,bins = 10)\n",
        "plt.title(\"Histogram of Int_Mem \")\n",
        "plt.xlabel(\"Bty_Mem\")\n",
        "plt.ylabel(\"RAM\")\n",
        "plt.show()\n"
      ]
    },
    {
      "cell_type": "code",
      "execution_count": 52,
      "metadata": {
        "id": "oPjFp16vN86e"
      },
      "outputs": [
        {
          "name": "stdout",
          "output_type": "stream",
          "text": [
            "173.76\n",
            "64.0\n"
          ]
        }
      ],
      "source": [
        "c1 = (df['Int_Mem'].mean())\n",
        "c2 = (df['Int_Mem'].median())\n",
        "print(c1)\n",
        "print(c2)"
      ]
    },
    {
      "cell_type": "code",
      "execution_count": 106,
      "metadata": {},
      "outputs": [
        {
          "data": {
            "image/png": "[encoded data removed]",
            "text/plain": [
              "<Figure size 1100x600 with 1 Axes>"
            ]
          },
          "metadata": {},
          "output_type": "display_data"
        }
      ],
      "source": [
        "# Create a histogram of the \"Bty_Pwr\" feature and also show the mean and the median\n",
        "plt.figure(figsize = (11,6))\n",
        "sns.histplot(data = df, x = 'Bty_Pwr',color = 'green',edgecolor = 'linen',alpha = 0.7,bins = 10)\n",
        "plt.title(\"Histogram of Bty_Pwr \")\n",
        "plt.xlabel(\"Int_Mem\")\n",
        "plt.ylabel(\"RAM\")\n",
        "plt.show()\n",
        "\n",
        "\n"
      ]
    },
    {
      "cell_type": "code",
      "execution_count": 54,
      "metadata": {
        "id": "TS83YmlQN86f"
      },
      "outputs": [
        {
          "name": "stdout",
          "output_type": "stream",
          "text": [
            "3740.0\n",
            "3300.0\n"
          ]
        }
      ],
      "source": [
        "d1 = (df['Bty_Pwr'].mean())\n",
        "d2 = (df['Bty_Pwr'].median())\n",
        "print(d1)\n",
        "print(d2)"
      ]
    },
    {
      "cell_type": "code",
      "execution_count": 108,
      "metadata": {},
      "outputs": [
        {
          "data": {
            "image/png": "[encoded data removed]",
            "text/plain": [
              "<Figure size 1100x600 with 1 Axes>"
            ]
          },
          "metadata": {},
          "output_type": "display_data"
        }
      ],
      "source": [
        "# Create a histogram of the \"RAM\" feature and also show the mean and the median\n",
        "plt.figure(figsize = (11,6))\n",
        "sns.histplot(data = df, x = 'RAM',color = 'red',edgecolor = 'linen',alpha = 0.7,bins = 10)\n",
        "plt.title(\"Histogram of RAM \")\n",
        "plt.xlabel(\"Int_Mem\")\n",
        "plt.ylabel(\"Bty_Pwr\")\n",
        "plt.show()\n",
        "\n"
      ]
    },
    {
      "cell_type": "code",
      "execution_count": 56,
      "metadata": {
        "id": "Ty-VGMoDN86g"
      },
      "outputs": [
        {
          "name": "stdout",
          "output_type": "stream",
          "text": [
            "5.76\n",
            "5.0\n"
          ]
        }
      ],
      "source": [
        "e1 = (df['RAM'].mean())\n",
        "e2 = (df['RAM'].median())\n",
        "print(e1)\n",
        "print(e2)"
      ]
    },
    {
      "cell_type": "code",
      "execution_count": 85,
      "metadata": {},
      "outputs": [],
      "source": [
        "# The children want phones that have good internal memory, battery power and RAM\n",
        "# Consider the phones that have internal memory, battery power and RAM greater than or equal to their respective mean values\n",
        "# Create a logical condition for this situation and store the logical values as \"con5\"\n",
        "\n",
        "df['con5'] = (df['Int_Mem'] >= c1) & (df['Bty_Pwr'] >= d1) & (df['RAM'] >= e1)\n"
      ]
    },
    {
      "cell_type": "markdown",
      "metadata": {
        "id": "u5RzvXKoSHaw"
      },
      "source": [
        "Observations\n",
        "\n",
        "The features \"Int_Mem\", \"Bty_Pwr\" and \"RAM\" are respectively the internal memory, battery power and RAM of the phones.\n",
        "\n",
        "The respective means have been selected as thresholds in this case.\n",
        "\n",
        ".In case it is too strict, we can choose the respective medians as thresholds"
      ]
    },
    {
      "cell_type": "markdown",
      "metadata": {
        "id": "VVeYghyESO9y"
      },
      "source": [
        "# Task 7 - Obtain the logical conditions for the features \"Depth\" and \"Weight\""
      ]
    },
    {
      "cell_type": "code",
      "execution_count": 59,
      "metadata": {
        "id": "07nm7-V1N86j"
      },
      "outputs": [
        {
          "name": "stdout",
          "output_type": "stream",
          "text": [
            "           Depth      Weight\n",
            "count  50.000000   50.000000\n",
            "mean    3.440000  195.200000\n",
            "std     1.052887   75.761171\n",
            "min     2.000000   80.000000\n",
            "25%     3.000000  142.500000\n",
            "50%     3.000000  190.000000\n",
            "75%     4.000000  247.500000\n",
            "max     7.000000  400.000000\n",
            "Depth     0\n",
            "Weight    0\n",
            "dtype: int64\n"
          ]
        }
      ],
      "source": [
        "# Let's tackle these features: \"Depth\", \"Weight\"\n",
        "print(df[[\"Depth\", \"Weight\"]].describe())\n",
        "print(df[[\"Depth\", \"Weight\"]].isnull().sum())"
      ]
    },
    {
      "cell_type": "code",
      "execution_count": 60,
      "metadata": {
        "id": "e88FFbusN86k"
      },
      "outputs": [
        {
          "data": {
            "image/png": "[encoded data removed]",
            "text/plain": [
              "<Figure size 1100x600 with 1 Axes>"
            ]
          },
          "metadata": {},
          "output_type": "display_data"
        }
      ],
      "source": [
        "# Create a histogram of the \"Depth\" feature and also show the mean and the median\n",
        "\n",
        "plt.figure(figsize = (11,6))\n",
        "sns.histplot(data = df, x = 'Depth',color = 'orange',edgecolor = 'linen',alpha = 0.7,bins = 10)\n",
        "plt.title(\"Histogram of Depth \")\n",
        "plt.xlabel(\"Depth\")\n",
        "plt.ylabel(\"Weight\")\n",
        "plt.show()\n"
      ]
    },
    {
      "cell_type": "code",
      "execution_count": 61,
      "metadata": {
        "id": "-lXTqLttN86l"
      },
      "outputs": [
        {
          "name": "stdout",
          "output_type": "stream",
          "text": [
            "3.44\n",
            "3.0\n"
          ]
        }
      ],
      "source": [
        "g1 = (df['Depth'].mean())\n",
        "g2 = (df['Depth'].median())\n",
        "print(g1)\n",
        "print(g2)"
      ]
    },
    {
      "cell_type": "code",
      "execution_count": 62,
      "metadata": {},
      "outputs": [
        {
          "data": {
            "image/png": "[encoded data removed]",
            "text/plain": [
              "<Figure size 1100x600 with 1 Axes>"
            ]
          },
          "metadata": {},
          "output_type": "display_data"
        }
      ],
      "source": [
        "# Create a histogram of the \"Weight\" feature and also show the mean and the median\n",
        "plt.figure(figsize = (11,6))\n",
        "sns.histplot(data = df, x = 'Weight',color = 'pink',edgecolor = 'linen',alpha = 0.7,bins = 10)\n",
        "plt.title(\"Histogram of Weight \")\n",
        "plt.xlabel(\"Weight\")\n",
        "plt.ylabel(\"Depth\")\n",
        "plt.show()"
      ]
    },
    {
      "cell_type": "code",
      "execution_count": 63,
      "metadata": {},
      "outputs": [
        {
          "name": "stdout",
          "output_type": "stream",
          "text": [
            "3.44\n",
            "3.0\n"
          ]
        }
      ],
      "source": [
        "h1 = (df['Depth'].mean())\n",
        "h2 = (df['Depth'].median())\n",
        "print(h1)\n",
        "print(h2)\n",
        "\n"
      ]
    },
    {
      "cell_type": "code",
      "execution_count": 98,
      "metadata": {
        "id": "7ZYJmwzJN86l"
      },
      "outputs": [],
      "source": [
        "# The children want phones that are light weight and slim\n",
        "# Consider the phones that have depth and weight less than or equal to the respective median values in the data set\n",
        "# Create a logical condition for this situation and store the logical values as \"con6\"\n",
        "\n",
        "con6 = (df['Weight'] <= df['Weight'].median()) & (df['Depth'] <= df['Depth'].median())\n",
        "df['con6'] = con6\n"
      ]
    },
    {
      "cell_type": "markdown",
      "metadata": {
        "id": "l32BIHsdSbHy"
      },
      "source": [
        "Observations:\n",
        "\n",
        "The features \"Depth\" and \"Weight\" are respectively the depth of the phone and the weight of the phone.\n",
        "\n",
        "The respective medians have been selected as thresholds in this case.\n",
        "\n",
        "In case it is too strict, we can choose the respective means as thresholds."
      ]
    },
    {
      "cell_type": "markdown",
      "metadata": {
        "id": "3UYMHQseSjZp"
      },
      "source": [
        "# Task 8 - Subset the data based on all the logical conditions"
      ]
    },
    {
      "cell_type": "code",
      "execution_count": 108,
      "metadata": {
        "id": "iKFweH2xN86o"
      },
      "outputs": [
        {
          "name": "stdout",
          "output_type": "stream",
          "text": [
            "        PID Blue Wi_Fi Tch_Scr Ext_Mem  Px_h  Px_w  Scr_h  Scr_w   PC  ...  \\\n",
            "30  TVF078Y  yes   yes     yes     yes  2580  2120      8      6   64  ...   \n",
            "32  TYS938L  yes   yes     yes     yes  2580  2120      8      6   64  ...   \n",
            "42  WZB298K  yes   yes     yes     yes  2580  1980      8      6   64  ...   \n",
            "47  ZDF789K  yes   yes     yes      no  2880  2520      8      6   64  ...   \n",
            "48  ZEO567M  yes   yes     yes      no  2880  2520      8      6  128  ...   \n",
            "\n",
            "    Weight  Price   con1       Px  con2  Scr_d  con3  con4  con5  con6  \n",
            "30      90  29999  False  5469600  True   10.0  True  True  True  True  \n",
            "32     120  46777  False  5469600  True   10.0  True  True  True  True  \n",
            "42     160  39000  False  5108400  True   10.0  True  True  True  True  \n",
            "47      80  84566  False  7257600  True   10.0  True  True  True  True  \n",
            "48     110  88999  False  7257600  True   10.0  True  True  True  True  \n",
            "\n",
            "[5 rows x 25 columns]\n"
          ]
        }
      ],
      "source": [
        "# Subset the dataframe using all the logical conditions that have been stored\n",
        "# Store the subset of the dataframe as a new dataframe called \"df1\"\n",
        "\n",
        "#df1 = df[(df['con2']) & (df['con3']) & (df['con4']) & (df['con5']) & (df['con6'])]\n",
        "df1 = df[(df['con2']) & (df['con3']) & (df['con4']) & (df['con5']) & (df['con6'])]\n",
        "\n",
        "# Display the subsetted DataFrame\n",
        "print(df1.head(5))\n"
      ]
    },
    {
      "cell_type": "code",
      "execution_count": 109,
      "metadata": {
        "id": "Y0Bp7BKkN86o"
      },
      "outputs": [
        {
          "data": {
            "text/plain": [
              "(6, 25)"
            ]
          },
          "execution_count": 109,
          "metadata": {},
          "output_type": "execute_result"
        }
      ],
      "source": [
        "# Get the dimensions of the dataframe\n",
        "df1.shape\n"
      ]
    },
    {
      "cell_type": "code",
      "execution_count": 110,
      "metadata": {
        "id": "H5tg2OEkN86p"
      },
      "outputs": [
        {
          "name": "stdout",
          "output_type": "stream",
          "text": [
            "        PID Blue Wi_Fi Tch_Scr Ext_Mem  Px_h  Px_w  Scr_h  Scr_w   PC  ...  \\\n",
            "30  TVF078Y  yes   yes     yes     yes  2580  2120      8      6   64  ...   \n",
            "42  WZB298K  yes   yes     yes     yes  2580  1980      8      6   64  ...   \n",
            "32  TYS938L  yes   yes     yes     yes  2580  2120      8      6   64  ...   \n",
            "47  ZDF789K  yes   yes     yes      no  2880  2520      8      6   64  ...   \n",
            "48  ZEO567M  yes   yes     yes      no  2880  2520      8      6  128  ...   \n",
            "49  ZZZ909X  yes   yes     yes      no  2880  2520      8      6  128  ...   \n",
            "\n",
            "    Weight   Price   con1       Px  con2  Scr_d  con3  con4  con5  con6  \n",
            "30      90   29999  False  5469600  True   10.0  True  True  True  True  \n",
            "42     160   39000  False  5108400  True   10.0  True  True  True  True  \n",
            "32     120   46777  False  5469600  True   10.0  True  True  True  True  \n",
            "47      80   84566  False  7257600  True   10.0  True  True  True  True  \n",
            "48     110   88999  False  7257600  True   10.0  True  True  True  True  \n",
            "49     130  149000  False  7257600  True   10.0  True  True  True  True  \n",
            "\n",
            "[6 rows x 25 columns]\n"
          ]
        }
      ],
      "source": [
        "# Sort the dataframe according to the \"Price\" feature in ascending order and display it\n",
        "\n",
        "df_sorted = df1.sort_values(by='Price', ascending=True)\n",
        "\n",
        "print(df_sorted)"
      ]
    },
    {
      "cell_type": "markdown",
      "metadata": {
        "id": "Zn6iT-HQSocg"
      },
      "source": [
        "Observations:\n",
        "\n",
        "Based on all the logical conditions obtained through analysis of the features, we are left with three phones.\n",
        "\n",
        "The most expensive of these phones is the \"ZZZ909X\" model and the least expensive is the \"TVF078Y\" model.\n",
        "\n",
        "We could let the children choose from these three phones as per their preferences."
      ]
    },
    {
      "cell_type": "markdown",
      "metadata": {
        "id": "O09ZVXlbSvhj"
      },
      "source": [
        "# Task 9 - Study the variability of the features in the original data set"
      ]
    },
    {
      "cell_type": "code",
      "execution_count": 113,
      "metadata": {
        "id": "grfzKBDyN86r"
      },
      "outputs": [
        {
          "name": "stdout",
          "output_type": "stream",
          "text": [
            "Px_h       0.257998\n",
            "Px_w       0.256226\n",
            "Scr_h      0.314293\n",
            "Scr_w      0.407624\n",
            "PC         0.715716\n",
            "FC         0.712184\n",
            "Int_Mem    1.506514\n",
            "Bty_Pwr    0.256368\n",
            "RAM        0.479075\n",
            "Depth      0.306072\n",
            "Weight     0.388121\n",
            "Price      0.740868\n",
            "Px         0.398680\n",
            "Scr_d      0.340469\n",
            "Name: deviations, dtype: float64\n"
          ]
        }
      ],
      "source": [
        "# Calculate the ratio of the standard deviation to the mean for all the numerical features in the dataframe\n",
        "# Store these values in a new series wherein the rows are the features and the only column is the calculated ratio\n",
        "# Name the series as \"deviations\"\n",
        "\n",
        "\n",
        "numerical_features = df.select_dtypes(include=['float64', 'int64'])\n",
        "deviations = numerical_features.std() / numerical_features.mean()\n",
        "deviations.name = 'deviations'\n",
        "print(deviations)\n",
        "\n"
      ]
    },
    {
      "cell_type": "code",
      "execution_count": 114,
      "metadata": {
        "id": "sBRqrnVaN86s"
      },
      "outputs": [
        {
          "name": "stdout",
          "output_type": "stream",
          "text": [
            "Int_Mem    1.506514\n",
            "Price      0.740868\n",
            "PC         0.715716\n",
            "FC         0.712184\n",
            "RAM        0.479075\n",
            "Scr_w      0.407624\n",
            "Px         0.398680\n",
            "Weight     0.388121\n",
            "Scr_d      0.340469\n",
            "Scr_h      0.314293\n",
            "Depth      0.306072\n",
            "Px_h       0.257998\n",
            "Bty_Pwr    0.256368\n",
            "Px_w       0.256226\n",
            "Name: deviations, dtype: float64\n"
          ]
        }
      ],
      "source": [
        "# View the \"deviations\" series after sorting it in descending order\n",
        "\n",
        "deviations_sorted = deviations.sort_values(ascending=False)\n",
        "print(deviations_sorted)\n"
      ]
    },
    {
      "cell_type": "markdown",
      "metadata": {
        "id": "RSypqWHuSzJU"
      },
      "source": [
        "Observations:\n",
        "\n",
        "The ratio of the standard deviation to the mean of a feature normalises it in a way.\n",
        "\n",
        "This allows for comparison between multiple features.\n",
        "\n",
        "The most variable feature in the original data set is the internal memory of the phones.\n",
        "\n",
        "The least variable feature in the original data set is the number of screen pixels in the horizontal axis.\n",
        "\n",
        "Although most features don't seem so variable, the prices of the phones are quite variable.\n",
        "\n",
        "Feel free to investigate what could be the cause of this difference in variability.\n",
        "\n",
        "Note: We encourage you to extend this analysis further and see what else you can find.\n",
        "\n",
        "Note: Please refer to the official website of Python and its libraries for various Python documentations."
      ]
    },
    {
      "cell_type": "markdown",
      "metadata": {
        "id": "kE4_U-R9TI_d"
      },
      "source": [
        "# Conclusion\n",
        "1. We have used concepts of descriptive statistics to study and work with a data set that contains mobile phone specifications.\n",
        "\n",
        "2. We were able to recommend three phone models to the client which she can then propose to her children."
      ]
    }
  ],
  "metadata": {
    "colab": {
      "provenance": []
    },
    "kernelspec": {
      "display_name": "Python 3",
      "language": "python",
      "name": "python3"
    },
    "language_info": {
      "codemirror_mode": {
        "name": "ipython",
        "version": 3
      },
      "file_extension": ".py",
      "mimetype": "text/x-python",
      "name": "python",
      "nbconvert_exporter": "python",
      "pygments_lexer": "ipython3",
      "version": "3.12.2"
    }
  },
  "nbformat": 4,
  "nbformat_minor": 0
}
